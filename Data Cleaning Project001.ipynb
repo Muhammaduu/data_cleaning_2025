{
 "cells": [
  {
   "cell_type": "markdown",
   "id": "07dfbde2",
   "metadata": {},
   "source": [
    "### Data cleaing is a process where data is made to meet certain criteria by identifying and removing errors in data set."
   ]
  },
  {
   "cell_type": "markdown",
   "id": "a66176ff",
   "metadata": {},
   "source": [
    "#### Tasks:\n",
    "#### 1) Load the dataset: conver the string into a CSV file and read it  into a Pandas DataFrame.\n",
    "#### 2) Check for missing values: Identify and handle missing values \n",
    "#### 3) Handle duplicates: Remove duplicate records from the dataset.\n",
    "#### 4) Standardize date format: Convert Joining_Date to a proper YYYY-MM-DD format.\n",
    "#### 5) Fix inconsistent department names: Ensure uniform department names (e.g., \"HR\" vs. \"Human Resources\").\n",
    "#### 6) Correct data types: Convert Age to appropriate numerical data types.\n",
    "#### 7) Detect outliers: Identify any extreme values in Salary and Experience columns.\n",
    "#### 8) Validate categorical values: Ensure Gender contains only \"Male\" or \"Female\".\n",
    "#### 9) Save the cleaned dataset: Export the cleaned DataFrame as cleaned_data.csv."
   ]
  },
  {
   "cell_type": "code",
   "execution_count": 1,
   "id": "059c0bcb",
   "metadata": {},
   "outputs": [],
   "source": [
    "# importing required libraries\n",
    "import pandas as pd\n",
    "import seaborn as sns\n",
    "import matplotlib.pyplot as plt\n",
    "\n",
    "from io import StringIO # to read csv file from a string "
   ]
  },
  {
   "cell_type": "markdown",
   "id": "00fbdd06",
   "metadata": {},
   "source": [
    "### answer to task one "
   ]
  },
  {
   "cell_type": "code",
   "execution_count": 2,
   "id": "c2dc1f12",
   "metadata": {},
   "outputs": [],
   "source": [
    "# sample csv data as multi-line string\n",
    "csv_data=\"\"\"ID,Name,Age,Gender,Salary,Joining_Date,Department,Experience\n",
    "1,John Doe,29,Male,50000,2020-06-15,Finance,5\n",
    "2,Jane Smith,,Female,60000,2019/07/20,Marketing,6\n",
    "3,Mike Brown,40,Male,80000,2021-08-10,Finance,10\n",
    "4,Linda Jones,35,Female,70000,2018-05-25,HR,8\n",
    "5,David Wilson,50,Male,NaN,2017-12-10,IT,12\n",
    "6,Susan Adams,NaN,Female,55000,2022-09-01,IT,4\n",
    "7,John Doe,29,Male,50000,2020-06-15,Finance,5\n",
    "8,Chris Evans,33,Male,75000,2021-03-05,Marketing,7\n",
    "9,Nancy Green,45,Female,85000,2016-11-30,HR,11\n",
    "10,Adam Lee,NaN,Male,65000,2019-10-12,IT,6\n",
    "11,Emma White,28,Female,62000,2021-07-22,Finance,4\n",
    "12,James Black,41,Male,78000,2015-09-30,IT,15\n",
    "13,Olivia Brown,32,Female,67000,2020-11-15,Marketing,7\n",
    "14,Ethan Harris,37,Male,73000,2018-04-10,HR,9\n",
    "15,Mia Thompson,36,Female,71000,2019-06-20,Finance,8\n",
    "16,William Scott,44,Male,82000,2017-08-25,Marketing,12\n",
    "17,Charlotte Young,30,Female,69000,2022-05-14,IT,5\n",
    "18,Liam Walker,27,Male,60000,2020-12-05,HR,3\n",
    "19,Sophia King,33,Female,74000,2016-07-19,Finance,10\n",
    "20,Michael Hall,39,Male,79000,2019-09-10,Marketing,11\n",
    "21,Emily Allen,29,Female,65000,2021-01-22,IT,6\n",
    "22,Daniel Wright,42,Male,83000,2017-03-27,Finance,14\n",
    "23,Isabella Lewis,31,Female,71000,2018-10-15,HR,7\n",
    "24,Alexander Harris,35,Male,76000,2019-12-01,Marketing,9\n",
    "25,Amelia Adams,38,Female,78000,2016-05-10,Finance,12\n",
    "26,Benjamin Nelson,34,Male,72000,2021-06-18,IT,8\n",
    "27,Charlotte Carter,26,Female,61000,2020-02-20,HR,4\n",
    "28,Henry Robinson,40,Male,85000,2015-11-29,Finance,15\n",
    "29,Evelyn Moore,45,Female,86000,2014-08-30,Marketing,16\n",
    "30,Lucas Perez,50,Male,90000,2013-06-10,IT,20\n",
    "31,Scarlett Sanchez,29,Female,64000,2019-05-17,HR,5\n",
    "32,Jack Mitchell,33,Male,73000,2020-08-14,Finance,7\n",
    "33,Harper Cox,35,Female,75000,2018-02-10,Marketing,9\n",
    "34,Ethan Foster,41,Male,81000,2017-04-23,IT,14\n",
    "35,Ava Baker,37,Female,78000,2016-07-12,Finance,11\n",
    "36,Logan Reed,32,Male,74000,2022-10-08,HR,6\n",
    "37,Madison Bell,28,Female,66000,2019-11-20,Marketing,4\n",
    "38,Joseph Murphy,45,Male,88000,2015-12-30,Finance,18\n",
    "39,Grace Rivera,50,Female,92000,2013-01-15,IT,22\n",
    "40,Matthew Cooper,48,Male,89000,2014-06-25,HR,20\n",
    "41,Abigail Morgan,29,Female,67000,2021-09-10,Finance,5\n",
    "42,Dylan Howard,38,Male,79000,2019-04-18,Marketing,12\n",
    "43,Zoey Ramirez,31,Female,73000,2017-11-08,IT,9\n",
    "44,Elijah Bailey,34,Male,76000,2016-09-15,HR,10\n",
    "45,Natalie Garcia,36,Female,78000,2020-07-14,Finance,9\n",
    "46,David Lopez,41,Male,82000,2015-05-30,Marketing,14\n",
    "47,Lily Martinez,30,Female,72000,2018-01-23,IT,7\n",
    "48,Samuel Scott,45,Male,87000,2014-12-14,Finance,16\n",
    "49,Hannah Green,50,Female,94000,2012-06-05,HR,25\n",
    "50,Carter Adams,39,Male,81000,2016-03-22,Marketing,13\"\"\"\n",
    "\n",
    "# conert srting to a dataframe\n",
    "df=pd.read_csv(StringIO(csv_data))"
   ]
  },
  {
   "cell_type": "code",
   "execution_count": 3,
   "id": "7ec6b19c",
   "metadata": {},
   "outputs": [
    {
     "data": {
      "text/html": [
       "<div>\n",
       "<style scoped>\n",
       "    .dataframe tbody tr th:only-of-type {\n",
       "        vertical-align: middle;\n",
       "    }\n",
       "\n",
       "    .dataframe tbody tr th {\n",
       "        vertical-align: top;\n",
       "    }\n",
       "\n",
       "    .dataframe thead th {\n",
       "        text-align: right;\n",
       "    }\n",
       "</style>\n",
       "<table border=\"1\" class=\"dataframe\">\n",
       "  <thead>\n",
       "    <tr style=\"text-align: right;\">\n",
       "      <th></th>\n",
       "      <th>ID</th>\n",
       "      <th>Name</th>\n",
       "      <th>Age</th>\n",
       "      <th>Gender</th>\n",
       "      <th>Salary</th>\n",
       "      <th>Joining_Date</th>\n",
       "      <th>Department</th>\n",
       "      <th>Experience</th>\n",
       "    </tr>\n",
       "  </thead>\n",
       "  <tbody>\n",
       "    <tr>\n",
       "      <th>0</th>\n",
       "      <td>1</td>\n",
       "      <td>John Doe</td>\n",
       "      <td>29.0</td>\n",
       "      <td>Male</td>\n",
       "      <td>50000.0</td>\n",
       "      <td>2020-06-15</td>\n",
       "      <td>Finance</td>\n",
       "      <td>5</td>\n",
       "    </tr>\n",
       "    <tr>\n",
       "      <th>1</th>\n",
       "      <td>2</td>\n",
       "      <td>Jane Smith</td>\n",
       "      <td>NaN</td>\n",
       "      <td>Female</td>\n",
       "      <td>60000.0</td>\n",
       "      <td>2019/07/20</td>\n",
       "      <td>Marketing</td>\n",
       "      <td>6</td>\n",
       "    </tr>\n",
       "    <tr>\n",
       "      <th>2</th>\n",
       "      <td>3</td>\n",
       "      <td>Mike Brown</td>\n",
       "      <td>40.0</td>\n",
       "      <td>Male</td>\n",
       "      <td>80000.0</td>\n",
       "      <td>2021-08-10</td>\n",
       "      <td>Finance</td>\n",
       "      <td>10</td>\n",
       "    </tr>\n",
       "    <tr>\n",
       "      <th>3</th>\n",
       "      <td>4</td>\n",
       "      <td>Linda Jones</td>\n",
       "      <td>35.0</td>\n",
       "      <td>Female</td>\n",
       "      <td>70000.0</td>\n",
       "      <td>2018-05-25</td>\n",
       "      <td>HR</td>\n",
       "      <td>8</td>\n",
       "    </tr>\n",
       "    <tr>\n",
       "      <th>4</th>\n",
       "      <td>5</td>\n",
       "      <td>David Wilson</td>\n",
       "      <td>50.0</td>\n",
       "      <td>Male</td>\n",
       "      <td>NaN</td>\n",
       "      <td>2017-12-10</td>\n",
       "      <td>IT</td>\n",
       "      <td>12</td>\n",
       "    </tr>\n",
       "  </tbody>\n",
       "</table>\n",
       "</div>"
      ],
      "text/plain": [
       "   ID          Name   Age  Gender   Salary Joining_Date Department  Experience\n",
       "0   1      John Doe  29.0    Male  50000.0   2020-06-15    Finance           5\n",
       "1   2    Jane Smith   NaN  Female  60000.0   2019/07/20  Marketing           6\n",
       "2   3    Mike Brown  40.0    Male  80000.0   2021-08-10    Finance          10\n",
       "3   4   Linda Jones  35.0  Female  70000.0   2018-05-25         HR           8\n",
       "4   5  David Wilson  50.0    Male      NaN   2017-12-10         IT          12"
      ]
     },
     "execution_count": 3,
     "metadata": {},
     "output_type": "execute_result"
    }
   ],
   "source": [
    "# display the dataframe\n",
    "df.head()"
   ]
  },
  {
   "cell_type": "code",
   "execution_count": 4,
   "id": "86c598dc",
   "metadata": {},
   "outputs": [],
   "source": [
    "# Check if 'Age' column exists before dropping\n",
    "if 'ID' in df.columns:\n",
    "    df.drop(columns=['ID'], inplace=True)"
   ]
  },
  {
   "cell_type": "code",
   "execution_count": 5,
   "id": "d1937a9e",
   "metadata": {},
   "outputs": [
    {
     "name": "stdout",
     "output_type": "stream",
     "text": [
      "<class 'pandas.core.frame.DataFrame'>\n",
      "RangeIndex: 50 entries, 0 to 49\n",
      "Data columns (total 7 columns):\n",
      " #   Column        Non-Null Count  Dtype  \n",
      "---  ------        --------------  -----  \n",
      " 0   Name          50 non-null     object \n",
      " 1   Age           47 non-null     float64\n",
      " 2   Gender        50 non-null     object \n",
      " 3   Salary        49 non-null     float64\n",
      " 4   Joining_Date  50 non-null     object \n",
      " 5   Department    50 non-null     object \n",
      " 6   Experience    50 non-null     int64  \n",
      "dtypes: float64(2), int64(1), object(4)\n",
      "memory usage: 2.9+ KB\n"
     ]
    }
   ],
   "source": [
    "# more info in on dataframe\n",
    "df.info()"
   ]
  },
  {
   "cell_type": "markdown",
   "id": "c8605e75",
   "metadata": {},
   "source": [
    "#### The dataframe has 50 entries \n",
    "#### columns 'Age' has 47 non-null vales this means that there are 3 entries with nana \n",
    "#### the same concept applies to column 'Salary'"
   ]
  },
  {
   "cell_type": "markdown",
   "id": "60b66ef1",
   "metadata": {},
   "source": [
    "### answer to task 2"
   ]
  },
  {
   "cell_type": "code",
   "execution_count": 6,
   "id": "bbeb44d1",
   "metadata": {},
   "outputs": [
    {
     "data": {
      "text/plain": [
       "Name            0\n",
       "Age             3\n",
       "Gender          0\n",
       "Salary          1\n",
       "Joining_Date    0\n",
       "Department      0\n",
       "Experience      0\n",
       "dtype: int64"
      ]
     },
     "execution_count": 6,
     "metadata": {},
     "output_type": "execute_result"
    }
   ],
   "source": [
    "# checking missing values \n",
    "df.isnull().sum()"
   ]
  },
  {
   "cell_type": "markdown",
   "id": "c67b297a",
   "metadata": {},
   "source": [
    "##### there are missing values in columns 'Age' and 'Salary'\n",
    "\n",
    "#### there different ways of dealing nan values;\n",
    "#### 1) droping the NaN it is simply dropping the the entire observation with the nan\n",
    "#### 2) Fill missing values with a specific common number. It  is useful when you want to replace missing values with a default or common value.\n",
    "#### 3) forward and backward fill this fills nan values with previous and next row values respectively \n",
    "\n",
    "#### choose which method to use when dealing missing values depends the nature and end of goal the dataset there it's good to check the percentage(%) of the missing values and then decide the suite method "
   ]
  },
  {
   "cell_type": "code",
   "execution_count": 7,
   "id": "ccf95280",
   "metadata": {},
   "outputs": [
    {
     "data": {
      "text/plain": [
       "Name            0.00\n",
       "Age             0.06\n",
       "Gender          0.00\n",
       "Salary          0.02\n",
       "Joining_Date    0.00\n",
       "Department      0.00\n",
       "Experience      0.00\n",
       "dtype: float64"
      ]
     },
     "execution_count": 7,
     "metadata": {},
     "output_type": "execute_result"
    }
   ],
   "source": [
    "# checking the % of missing values\n",
    "df.isnull().sum()/df.shape[0]"
   ]
  },
  {
   "cell_type": "markdown",
   "id": "ad637c7d",
   "metadata": {},
   "source": [
    "#### The % of missing values in columns 'Age' and 'Salary' is 6% and 2% respectively therefore i will just drop the missing values since both percentages are relatively small "
   ]
  },
  {
   "cell_type": "code",
   "execution_count": 8,
   "id": "070f67ec",
   "metadata": {},
   "outputs": [
    {
     "name": "stdout",
     "output_type": "stream",
     "text": [
      "<class 'pandas.core.frame.DataFrame'>\n",
      "Index: 46 entries, 0 to 49\n",
      "Data columns (total 7 columns):\n",
      " #   Column        Non-Null Count  Dtype  \n",
      "---  ------        --------------  -----  \n",
      " 0   Name          46 non-null     object \n",
      " 1   Age           46 non-null     float64\n",
      " 2   Gender        46 non-null     object \n",
      " 3   Salary        46 non-null     float64\n",
      " 4   Joining_Date  46 non-null     object \n",
      " 5   Department    46 non-null     object \n",
      " 6   Experience    46 non-null     int64  \n",
      "dtypes: float64(2), int64(1), object(4)\n",
      "memory usage: 2.9+ KB\n"
     ]
    }
   ],
   "source": [
    "# droping missing values using dropna method \n",
    "df.dropna(inplace=True)\n",
    "df.info() "
   ]
  },
  {
   "cell_type": "markdown",
   "id": "e680ed15",
   "metadata": {},
   "source": [
    "check the difference the between the number of enries before and after dropna method \n",
    "after dropna method we have 46 entires which means there are 4 entries that are droped "
   ]
  },
  {
   "cell_type": "markdown",
   "id": "64b9e08b",
   "metadata": {},
   "source": [
    "### answer to task 3"
   ]
  },
  {
   "cell_type": "code",
   "execution_count": 9,
   "id": "c1247daf",
   "metadata": {},
   "outputs": [
    {
     "data": {
      "text/plain": [
       "1"
      ]
     },
     "execution_count": 9,
     "metadata": {},
     "output_type": "execute_result"
    }
   ],
   "source": [
    "# checking duplicates \n",
    "df.duplicated().sum()"
   ]
  },
  {
   "cell_type": "markdown",
   "id": "0e18570c",
   "metadata": {},
   "source": [
    "There is one duplicates observation "
   ]
  },
  {
   "cell_type": "code",
   "execution_count": 10,
   "id": "124dc6e1",
   "metadata": {},
   "outputs": [
    {
     "name": "stdout",
     "output_type": "stream",
     "text": [
      "<class 'pandas.core.frame.DataFrame'>\n",
      "Index: 45 entries, 0 to 49\n",
      "Data columns (total 7 columns):\n",
      " #   Column        Non-Null Count  Dtype  \n",
      "---  ------        --------------  -----  \n",
      " 0   Name          45 non-null     object \n",
      " 1   Age           45 non-null     float64\n",
      " 2   Gender        45 non-null     object \n",
      " 3   Salary        45 non-null     float64\n",
      " 4   Joining_Date  45 non-null     object \n",
      " 5   Department    45 non-null     object \n",
      " 6   Experience    45 non-null     int64  \n",
      "dtypes: float64(2), int64(1), object(4)\n",
      "memory usage: 2.8+ KB\n"
     ]
    }
   ],
   "source": [
    "# remove duplicates\n",
    "df.drop_duplicates(inplace=True)\n",
    "df.info()"
   ]
  },
  {
   "cell_type": "markdown",
   "id": "4d3dcf1c",
   "metadata": {},
   "source": [
    "Again check the number of enries.\n",
    "The number of enrties are reduced from 46 to 45 since have drop the duplicated row"
   ]
  },
  {
   "cell_type": "markdown",
   "id": "0f855b7f",
   "metadata": {},
   "source": [
    "### answer to task 4"
   ]
  },
  {
   "cell_type": "code",
   "execution_count": 11,
   "id": "fb566145",
   "metadata": {},
   "outputs": [
    {
     "name": "stdout",
     "output_type": "stream",
     "text": [
      "<class 'pandas.core.frame.DataFrame'>\n",
      "Index: 45 entries, 0 to 49\n",
      "Data columns (total 7 columns):\n",
      " #   Column        Non-Null Count  Dtype  \n",
      "---  ------        --------------  -----  \n",
      " 0   Name          45 non-null     object \n",
      " 1   Age           45 non-null     float64\n",
      " 2   Gender        45 non-null     object \n",
      " 3   Salary        45 non-null     float64\n",
      " 4   Joining_Date  45 non-null     object \n",
      " 5   Department    45 non-null     object \n",
      " 6   Experience    45 non-null     int64  \n",
      "dtypes: float64(2), int64(1), object(4)\n",
      "memory usage: 2.8+ KB\n"
     ]
    }
   ],
   "source": [
    "# Convert Joining_Date to a proper YYYY-MM-DD format.\n",
    "df['Joining_Date']=pd.to_datetime(df['Joining_Date'],errors='coerce').dt.strftime('%Y-%m-%d')\n",
    "df.info()"
   ]
  },
  {
   "cell_type": "code",
   "execution_count": 12,
   "id": "4fa66582",
   "metadata": {},
   "outputs": [
    {
     "name": "stdout",
     "output_type": "stream",
     "text": [
      "Invalid date entries:\n",
      " Empty DataFrame\n",
      "Columns: [Name, Age, Gender, Salary, Joining_Date, Department, Experience]\n",
      "Index: []\n"
     ]
    }
   ],
   "source": [
    "invalid_dates = df[~pd.to_datetime(df['Joining_Date'], errors='coerce').notna()]\n",
    "print(\"Invalid date entries:\\n\", invalid_dates)\n"
   ]
  },
  {
   "cell_type": "markdown",
   "id": "281ed8db",
   "metadata": {},
   "source": [
    "Since the Invalid date entries output is an empty DataFrame, it means that all dates are valid and successfully converted "
   ]
  },
  {
   "cell_type": "markdown",
   "id": "cb6e6f5b",
   "metadata": {},
   "source": [
    "#### answer to task 5"
   ]
  },
  {
   "cell_type": "code",
   "execution_count": 13,
   "id": "78ca78d5",
   "metadata": {},
   "outputs": [
    {
     "data": {
      "text/plain": [
       "array(['Finance', 'HR', 'Marketing', 'IT'], dtype=object)"
      ]
     },
     "execution_count": 13,
     "metadata": {},
     "output_type": "execute_result"
    }
   ],
   "source": [
    "# Fix inconsistent department names: Ensure uniform department names (e.g., \"HR\" vs. \"Human Resources\").\n",
    "df['Department'].unique()"
   ]
  },
  {
   "cell_type": "code",
   "execution_count": 14,
   "id": "b3c93056",
   "metadata": {},
   "outputs": [],
   "source": [
    "# standardizing department name\n",
    "df['Department']=df['Department'].replace({\n",
    "    'HR':'Human Resources',\n",
    "    'IT':'Information Technology'\n",
    "})"
   ]
  },
  {
   "cell_type": "code",
   "execution_count": 15,
   "id": "3b05b77b",
   "metadata": {},
   "outputs": [
    {
     "data": {
      "text/plain": [
       "array(['Finance', 'Human Resources', 'Marketing',\n",
       "       'Information Technology'], dtype=object)"
      ]
     },
     "execution_count": 15,
     "metadata": {},
     "output_type": "execute_result"
    }
   ],
   "source": [
    "# confirm changes\n",
    "df['Department'].unique()"
   ]
  },
  {
   "cell_type": "markdown",
   "id": "53167850",
   "metadata": {},
   "source": [
    "### answer to task 6"
   ]
  },
  {
   "cell_type": "code",
   "execution_count": 16,
   "id": "1eba7bf9",
   "metadata": {},
   "outputs": [
    {
     "data": {
      "text/plain": [
       "Name             object\n",
       "Age             float64\n",
       "Gender           object\n",
       "Salary          float64\n",
       "Joining_Date     object\n",
       "Department       object\n",
       "Experience        int64\n",
       "dtype: object"
      ]
     },
     "execution_count": 16,
     "metadata": {},
     "output_type": "execute_result"
    }
   ],
   "source": [
    "# data types in the dataframe\n",
    "df.dtypes"
   ]
  },
  {
   "cell_type": "markdown",
   "id": "c7924b72",
   "metadata": {},
   "source": [
    "Age is data type float it is better we convert to int while salary and expreince and remain the same"
   ]
  },
  {
   "cell_type": "code",
   "execution_count": 17,
   "id": "539d76fb",
   "metadata": {},
   "outputs": [],
   "source": [
    "# Correct data types\n",
    "df['Age']=df['Age'].astype(int)"
   ]
  },
  {
   "cell_type": "code",
   "execution_count": 18,
   "id": "d218c03d",
   "metadata": {},
   "outputs": [
    {
     "data": {
      "text/plain": [
       "Name             object\n",
       "Age               int32\n",
       "Gender           object\n",
       "Salary          float64\n",
       "Joining_Date     object\n",
       "Department       object\n",
       "Experience        int64\n",
       "dtype: object"
      ]
     },
     "execution_count": 18,
     "metadata": {},
     "output_type": "execute_result"
    }
   ],
   "source": [
    "# confrimimg changes in data type\n",
    "df.dtypes"
   ]
  },
  {
   "cell_type": "markdown",
   "id": "92c346cc",
   "metadata": {},
   "source": [
    "### answer to task 7"
   ]
  },
  {
   "cell_type": "code",
   "execution_count": 19,
   "id": "b4b09138",
   "metadata": {},
   "outputs": [
    {
     "data": {
      "text/plain": [
       "array(['Male', 'Female'], dtype=object)"
      ]
     },
     "execution_count": 19,
     "metadata": {},
     "output_type": "execute_result"
    }
   ],
   "source": [
    "# Validate categorical values: Ensure Gender contains only \"Male\" or \"Female\".\n",
    "df['Gender'].unique()"
   ]
  },
  {
   "cell_type": "markdown",
   "id": "1ce3c998",
   "metadata": {},
   "source": [
    "This shows that Gender countains only male and female"
   ]
  },
  {
   "cell_type": "markdown",
   "id": "b992be90",
   "metadata": {},
   "source": [
    "#### answer to task 8"
   ]
  },
  {
   "cell_type": "markdown",
   "id": "f3f1d0a9",
   "metadata": {},
   "source": [
    "First approach "
   ]
  },
  {
   "cell_type": "code",
   "execution_count": 20,
   "id": "ede1b00d",
   "metadata": {},
   "outputs": [
    {
     "data": {
      "text/html": [
       "<div>\n",
       "<style scoped>\n",
       "    .dataframe tbody tr th:only-of-type {\n",
       "        vertical-align: middle;\n",
       "    }\n",
       "\n",
       "    .dataframe tbody tr th {\n",
       "        vertical-align: top;\n",
       "    }\n",
       "\n",
       "    .dataframe thead th {\n",
       "        text-align: right;\n",
       "    }\n",
       "</style>\n",
       "<table border=\"1\" class=\"dataframe\">\n",
       "  <thead>\n",
       "    <tr style=\"text-align: right;\">\n",
       "      <th></th>\n",
       "      <th>Age</th>\n",
       "      <th>Salary</th>\n",
       "      <th>Experience</th>\n",
       "    </tr>\n",
       "  </thead>\n",
       "  <tbody>\n",
       "    <tr>\n",
       "      <th>count</th>\n",
       "      <td>45.000000</td>\n",
       "      <td>45.000000</td>\n",
       "      <td>45.000000</td>\n",
       "    </tr>\n",
       "    <tr>\n",
       "      <th>mean</th>\n",
       "      <td>36.666667</td>\n",
       "      <td>75800.000000</td>\n",
       "      <td>10.488889</td>\n",
       "    </tr>\n",
       "    <tr>\n",
       "      <th>std</th>\n",
       "      <td>6.687845</td>\n",
       "      <td>9262.828942</td>\n",
       "      <td>5.150561</td>\n",
       "    </tr>\n",
       "    <tr>\n",
       "      <th>min</th>\n",
       "      <td>26.000000</td>\n",
       "      <td>50000.000000</td>\n",
       "      <td>3.000000</td>\n",
       "    </tr>\n",
       "    <tr>\n",
       "      <th>25%</th>\n",
       "      <td>31.000000</td>\n",
       "      <td>71000.000000</td>\n",
       "      <td>7.000000</td>\n",
       "    </tr>\n",
       "    <tr>\n",
       "      <th>50%</th>\n",
       "      <td>36.000000</td>\n",
       "      <td>76000.000000</td>\n",
       "      <td>9.000000</td>\n",
       "    </tr>\n",
       "    <tr>\n",
       "      <th>75%</th>\n",
       "      <td>41.000000</td>\n",
       "      <td>82000.000000</td>\n",
       "      <td>14.000000</td>\n",
       "    </tr>\n",
       "    <tr>\n",
       "      <th>max</th>\n",
       "      <td>50.000000</td>\n",
       "      <td>94000.000000</td>\n",
       "      <td>25.000000</td>\n",
       "    </tr>\n",
       "  </tbody>\n",
       "</table>\n",
       "</div>"
      ],
      "text/plain": [
       "             Age        Salary  Experience\n",
       "count  45.000000     45.000000   45.000000\n",
       "mean   36.666667  75800.000000   10.488889\n",
       "std     6.687845   9262.828942    5.150561\n",
       "min    26.000000  50000.000000    3.000000\n",
       "25%    31.000000  71000.000000    7.000000\n",
       "50%    36.000000  76000.000000    9.000000\n",
       "75%    41.000000  82000.000000   14.000000\n",
       "max    50.000000  94000.000000   25.000000"
      ]
     },
     "execution_count": 20,
     "metadata": {},
     "output_type": "execute_result"
    }
   ],
   "source": [
    "# Detect outliers: Identify any extreme values in Salary and Experience columns.\n",
    "df.describe()"
   ]
  },
  {
   "cell_type": "markdown",
   "id": "1efbe110",
   "metadata": {},
   "source": [
    "The above descriptive shows there skew in the data,\n",
    "therefore is no any extreme values in salary and experience since mean and medium are almost equal in both instances "
   ]
  },
  {
   "cell_type": "markdown",
   "id": "24861bd3",
   "metadata": {},
   "source": [
    "Second approach"
   ]
  },
  {
   "cell_type": "code",
   "execution_count": 21,
   "id": "d39659a8",
   "metadata": {},
   "outputs": [
    {
     "data": {
      "image/png": "[encoded data removed]",
      "text/plain": [
       "<Figure size 1200x500 with 1 Axes>"
      ]
     },
     "metadata": {},
     "output_type": "display_data"
    }
   ],
   "source": [
    "# creating box plot to detect outliers \n",
    "plt.figure(figsize=(12,5))\n",
    "sns.boxplot(data=df[['Salary','Experience']])\n",
    "plt.title('Boxplot: Salary & Experience')\n",
    "plt.show()"
   ]
  },
  {
   "cell_type": "markdown",
   "id": "a66bb9ee",
   "metadata": {},
   "source": [
    "###### Experience has only one outlier meaing this one person with higher expreince than the rest, salary has some outliers below 50,000 the rest of the salaries fall under max and min values"
   ]
  },
  {
   "cell_type": "markdown",
   "id": "3e610c30",
   "metadata": {},
   "source": [
    "#### answer to task 9"
   ]
  },
  {
   "cell_type": "code",
   "execution_count": 22,
   "id": "40e6f442",
   "metadata": {},
   "outputs": [],
   "source": [
    "# Save the cleaned dataset: Export the cleaned DataFrame as cleaned_data.csv.\n",
    "df.to_csv('cleaned_data.csv', index=False)"
   ]
  },
  {
   "cell_type": "markdown",
   "id": "980698c8",
   "metadata": {},
   "source": [
    "## Author\n",
    "\n",
    "**Mohamed Abdirisak Abdalla**  \n",
    "📧 Email: [abdirsak1960@gmail.com](abdirsak1960@gmail.com)  \n",
    "📍 Location: Nairobi, Kenya  \n",
    "🔗 GitHub: [visit my github account](https://github.com/-MOHAMED ABDIRISAK ABDALLA)  \n",
    "📊 Specialization: Data Analysis | Statistics | Machine Learning  \n",
    "📝 Project: Data Cleaning & Exploration  \n",
    "\n",
    "---\n",
    "_Last Updated: 2025-02-19_\n"
   ]
  },
  {
   "cell_type": "code",
   "execution_count": null,
   "id": "09986780",
   "metadata": {},
   "outputs": [],
   "source": []
  }
 ],
 "metadata": {
  "kernelspec": {
   "display_name": "Python 3 (ipykernel)",
   "language": "python",
   "name": "python3"
  },
  "language_info": {
   "codemirror_mode": {
    "name": "ipython",
    "version": 3
   },
   "file_extension": ".py",
   "mimetype": "text/x-python",
   "name": "python",
   "nbconvert_exporter": "python",
   "pygments_lexer": "ipython3",
   "version": "3.11.5"
  }
 },
 "nbformat": 4,
 "nbformat_minor": 5
}
